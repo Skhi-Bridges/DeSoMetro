{
  "cells": [
    {
      "cell_type": "markdown",
      "metadata": {
        "id": "view-in-github",
        "colab_type": "text"
      },
      "source": [
        "<a href=\"https://colab.research.google.com/github/Skhi-Bridges/DeSoMetro/blob/main/RAG_4_lines_of_code.ipynb\" target=\"_parent\"><img src=\"https://colab.research.google.com/assets/colab-badge.svg\" alt=\"Open In Colab\"/></a>"
      ]
    },
    {
      "cell_type": "code",
      "execution_count": 1,
      "metadata": {
        "colab": {
          "base_uri": "https://localhost:8080/",
          "height": 1000
        },
        "id": "EYoSd-e43xua",
        "outputId": "7fdcbaae-36bd-4bf0-c339-ba375e595abc"
      },
      "outputs": [
        {
          "output_type": "stream",
          "name": "stdout",
          "text": [
            "Collecting clarifai\n",
            "  Downloading clarifai-10.0.1-py3-none-any.whl (135 kB)\n",
            "\u001b[2K     \u001b[90m━━━━━━━━━━━━━━━━━━━━━━━━━━━━━━━━━━━━━━━━\u001b[0m \u001b[32m135.2/135.2 kB\u001b[0m \u001b[31m3.4 MB/s\u001b[0m eta \u001b[36m0:00:00\u001b[0m\n",
            "\u001b[?25hCollecting clarifai-grpc~=10.0.1 (from clarifai)\n",
            "  Downloading clarifai_grpc-10.0.10-py3-none-any.whl (225 kB)\n",
            "\u001b[2K     \u001b[90m━━━━━━━━━━━━━━━━━━━━━━━━━━━━━━━━━━━━━━━━\u001b[0m \u001b[32m225.1/225.1 kB\u001b[0m \u001b[31m9.8 MB/s\u001b[0m eta \u001b[36m0:00:00\u001b[0m\n",
            "\u001b[?25hRequirement already satisfied: pandas>=1.3.5 in /usr/local/lib/python3.10/dist-packages (from clarifai) (1.5.3)\n",
            "Requirement already satisfied: numpy>=1.22.0 in /usr/local/lib/python3.10/dist-packages (from clarifai) (1.23.5)\n",
            "Requirement already satisfied: tqdm>=4.65.0 in /usr/local/lib/python3.10/dist-packages (from clarifai) (4.66.1)\n",
            "Requirement already satisfied: opencv-python>=4.7.0.68 in /usr/local/lib/python3.10/dist-packages (from clarifai) (4.8.0.76)\n",
            "Collecting tritonclient>=2.34.0 (from clarifai)\n",
            "  Downloading tritonclient-2.42.0-py3-none-manylinux1_x86_64.whl (12.4 MB)\n",
            "\u001b[2K     \u001b[90m━━━━━━━━━━━━━━━━━━━━━━━━━━━━━━━━━━━━━━━━\u001b[0m \u001b[32m12.4/12.4 MB\u001b[0m \u001b[31m35.7 MB/s\u001b[0m eta \u001b[36m0:00:00\u001b[0m\n",
            "\u001b[?25hRequirement already satisfied: rich>=13.4.2 in /usr/local/lib/python3.10/dist-packages (from clarifai) (13.7.0)\n",
            "Requirement already satisfied: PyYAML>=6.0.1 in /usr/local/lib/python3.10/dist-packages (from clarifai) (6.0.1)\n",
            "Collecting schema>=0.7.5 (from clarifai)\n",
            "  Downloading schema-0.7.5-py2.py3-none-any.whl (17 kB)\n",
            "Collecting Pillow>=9.5.0 (from clarifai)\n",
            "  Downloading pillow-10.2.0-cp310-cp310-manylinux_2_28_x86_64.whl (4.5 MB)\n",
            "\u001b[2K     \u001b[90m━━━━━━━━━━━━━━━━━━━━━━━━━━━━━━━━━━━━━━━━\u001b[0m \u001b[32m4.5/4.5 MB\u001b[0m \u001b[31m70.7 MB/s\u001b[0m eta \u001b[36m0:00:00\u001b[0m\n",
            "\u001b[?25hCollecting llama-index>=0.9.27 (from clarifai)\n",
            "  Downloading llama_index-0.9.46-py3-none-any.whl (15.9 MB)\n",
            "\u001b[2K     \u001b[90m━━━━━━━━━━━━━━━━━━━━━━━━━━━━━━━━━━━━━━━━\u001b[0m \u001b[32m15.9/15.9 MB\u001b[0m \u001b[31m61.7 MB/s\u001b[0m eta \u001b[36m0:00:00\u001b[0m\n",
            "\u001b[?25hCollecting pypdf>=3.17.4 (from clarifai)\n",
            "  Downloading pypdf-4.0.1-py3-none-any.whl (283 kB)\n",
            "\u001b[2K     \u001b[90m━━━━━━━━━━━━━━━━━━━━━━━━━━━━━━━━━━━━━━━━\u001b[0m \u001b[32m284.0/284.0 kB\u001b[0m \u001b[31m31.8 MB/s\u001b[0m eta \u001b[36m0:00:00\u001b[0m\n",
            "\u001b[?25hRequirement already satisfied: grpcio>=1.44.0 in /usr/local/lib/python3.10/dist-packages (from clarifai-grpc~=10.0.1->clarifai) (1.60.1)\n",
            "Requirement already satisfied: protobuf>=3.20.3 in /usr/local/lib/python3.10/dist-packages (from clarifai-grpc~=10.0.1->clarifai) (3.20.3)\n",
            "Requirement already satisfied: googleapis-common-protos>=1.53.0 in /usr/local/lib/python3.10/dist-packages (from clarifai-grpc~=10.0.1->clarifai) (1.62.0)\n",
            "Requirement already satisfied: requests>=2.25.1 in /usr/local/lib/python3.10/dist-packages (from clarifai-grpc~=10.0.1->clarifai) (2.31.0)\n",
            "Requirement already satisfied: SQLAlchemy[asyncio]>=1.4.49 in /usr/local/lib/python3.10/dist-packages (from llama-index>=0.9.27->clarifai) (2.0.25)\n",
            "Requirement already satisfied: aiohttp<4.0.0,>=3.8.6 in /usr/local/lib/python3.10/dist-packages (from llama-index>=0.9.27->clarifai) (3.9.3)\n",
            "Collecting dataclasses-json (from llama-index>=0.9.27->clarifai)\n",
            "  Downloading dataclasses_json-0.6.4-py3-none-any.whl (28 kB)\n",
            "Collecting deprecated>=1.2.9.3 (from llama-index>=0.9.27->clarifai)\n",
            "  Downloading Deprecated-1.2.14-py2.py3-none-any.whl (9.6 kB)\n",
            "Collecting dirtyjson<2.0.0,>=1.0.8 (from llama-index>=0.9.27->clarifai)\n",
            "  Downloading dirtyjson-1.0.8-py3-none-any.whl (25 kB)\n",
            "Requirement already satisfied: fsspec>=2023.5.0 in /usr/local/lib/python3.10/dist-packages (from llama-index>=0.9.27->clarifai) (2023.6.0)\n",
            "Collecting httpx (from llama-index>=0.9.27->clarifai)\n",
            "  Downloading httpx-0.26.0-py3-none-any.whl (75 kB)\n",
            "\u001b[2K     \u001b[90m━━━━━━━━━━━━━━━━━━━━━━━━━━━━━━━━━━━━━━━━\u001b[0m \u001b[32m75.9/75.9 kB\u001b[0m \u001b[31m13.0 MB/s\u001b[0m eta \u001b[36m0:00:00\u001b[0m\n",
            "\u001b[?25hRequirement already satisfied: nest-asyncio<2.0.0,>=1.5.8 in /usr/local/lib/python3.10/dist-packages (from llama-index>=0.9.27->clarifai) (1.6.0)\n",
            "Requirement already satisfied: networkx>=3.0 in /usr/local/lib/python3.10/dist-packages (from llama-index>=0.9.27->clarifai) (3.2.1)\n",
            "Requirement already satisfied: nltk<4.0.0,>=3.8.1 in /usr/local/lib/python3.10/dist-packages (from llama-index>=0.9.27->clarifai) (3.8.1)\n",
            "Collecting openai>=1.1.0 (from llama-index>=0.9.27->clarifai)\n",
            "  Downloading openai-1.12.0-py3-none-any.whl (226 kB)\n",
            "\u001b[2K     \u001b[90m━━━━━━━━━━━━━━━━━━━━━━━━━━━━━━━━━━━━━━━━\u001b[0m \u001b[32m226.7/226.7 kB\u001b[0m \u001b[31m31.8 MB/s\u001b[0m eta \u001b[36m0:00:00\u001b[0m\n",
            "\u001b[?25hRequirement already satisfied: tenacity<9.0.0,>=8.2.0 in /usr/local/lib/python3.10/dist-packages (from llama-index>=0.9.27->clarifai) (8.2.3)\n",
            "Collecting tiktoken>=0.3.3 (from llama-index>=0.9.27->clarifai)\n",
            "  Downloading tiktoken-0.6.0-cp310-cp310-manylinux_2_17_x86_64.manylinux2014_x86_64.whl (1.8 MB)\n",
            "\u001b[2K     \u001b[90m━━━━━━━━━━━━━━━━━━━━━━━━━━━━━━━━━━━━━━━━\u001b[0m \u001b[32m1.8/1.8 MB\u001b[0m \u001b[31m47.8 MB/s\u001b[0m eta \u001b[36m0:00:00\u001b[0m\n",
            "\u001b[?25hRequirement already satisfied: typing-extensions>=4.5.0 in /usr/local/lib/python3.10/dist-packages (from llama-index>=0.9.27->clarifai) (4.9.0)\n",
            "Collecting typing-inspect>=0.8.0 (from llama-index>=0.9.27->clarifai)\n",
            "  Downloading typing_inspect-0.9.0-py3-none-any.whl (8.8 kB)\n",
            "Requirement already satisfied: python-dateutil>=2.8.1 in /usr/local/lib/python3.10/dist-packages (from pandas>=1.3.5->clarifai) (2.8.2)\n",
            "Requirement already satisfied: pytz>=2020.1 in /usr/local/lib/python3.10/dist-packages (from pandas>=1.3.5->clarifai) (2023.4)\n",
            "Requirement already satisfied: markdown-it-py>=2.2.0 in /usr/local/lib/python3.10/dist-packages (from rich>=13.4.2->clarifai) (3.0.0)\n",
            "Requirement already satisfied: pygments<3.0.0,>=2.13.0 in /usr/local/lib/python3.10/dist-packages (from rich>=13.4.2->clarifai) (2.16.1)\n",
            "Requirement already satisfied: contextlib2>=0.5.5 in /usr/local/lib/python3.10/dist-packages (from schema>=0.7.5->clarifai) (21.6.0)\n",
            "Collecting python-rapidjson>=0.9.1 (from tritonclient>=2.34.0->clarifai)\n",
            "  Downloading python_rapidjson-1.14-cp310-cp310-manylinux_2_17_x86_64.manylinux2014_x86_64.whl (1.7 MB)\n",
            "\u001b[2K     \u001b[90m━━━━━━━━━━━━━━━━━━━━━━━━━━━━━━━━━━━━━━━━\u001b[0m \u001b[32m1.7/1.7 MB\u001b[0m \u001b[31m110.1 MB/s\u001b[0m eta \u001b[36m0:00:00\u001b[0m\n",
            "\u001b[?25hRequirement already satisfied: urllib3>=2.0.7 in /usr/local/lib/python3.10/dist-packages (from tritonclient>=2.34.0->clarifai) (2.0.7)\n",
            "Requirement already satisfied: aiosignal>=1.1.2 in /usr/local/lib/python3.10/dist-packages (from aiohttp<4.0.0,>=3.8.6->llama-index>=0.9.27->clarifai) (1.3.1)\n",
            "Requirement already satisfied: attrs>=17.3.0 in /usr/local/lib/python3.10/dist-packages (from aiohttp<4.0.0,>=3.8.6->llama-index>=0.9.27->clarifai) (23.2.0)\n",
            "Requirement already satisfied: frozenlist>=1.1.1 in /usr/local/lib/python3.10/dist-packages (from aiohttp<4.0.0,>=3.8.6->llama-index>=0.9.27->clarifai) (1.4.1)\n",
            "Requirement already satisfied: multidict<7.0,>=4.5 in /usr/local/lib/python3.10/dist-packages (from aiohttp<4.0.0,>=3.8.6->llama-index>=0.9.27->clarifai) (6.0.5)\n",
            "Requirement already satisfied: yarl<2.0,>=1.0 in /usr/local/lib/python3.10/dist-packages (from aiohttp<4.0.0,>=3.8.6->llama-index>=0.9.27->clarifai) (1.9.4)\n",
            "Requirement already satisfied: async-timeout<5.0,>=4.0 in /usr/local/lib/python3.10/dist-packages (from aiohttp<4.0.0,>=3.8.6->llama-index>=0.9.27->clarifai) (4.0.3)\n",
            "Requirement already satisfied: wrapt<2,>=1.10 in /usr/local/lib/python3.10/dist-packages (from deprecated>=1.2.9.3->llama-index>=0.9.27->clarifai) (1.14.1)\n",
            "Requirement already satisfied: mdurl~=0.1 in /usr/local/lib/python3.10/dist-packages (from markdown-it-py>=2.2.0->rich>=13.4.2->clarifai) (0.1.2)\n",
            "Requirement already satisfied: click in /usr/local/lib/python3.10/dist-packages (from nltk<4.0.0,>=3.8.1->llama-index>=0.9.27->clarifai) (8.1.7)\n",
            "Requirement already satisfied: joblib in /usr/local/lib/python3.10/dist-packages (from nltk<4.0.0,>=3.8.1->llama-index>=0.9.27->clarifai) (1.3.2)\n",
            "Requirement already satisfied: regex>=2021.8.3 in /usr/local/lib/python3.10/dist-packages (from nltk<4.0.0,>=3.8.1->llama-index>=0.9.27->clarifai) (2023.12.25)\n",
            "Requirement already satisfied: anyio<5,>=3.5.0 in /usr/local/lib/python3.10/dist-packages (from openai>=1.1.0->llama-index>=0.9.27->clarifai) (3.7.1)\n",
            "Requirement already satisfied: distro<2,>=1.7.0 in /usr/lib/python3/dist-packages (from openai>=1.1.0->llama-index>=0.9.27->clarifai) (1.7.0)\n",
            "Requirement already satisfied: pydantic<3,>=1.9.0 in /usr/local/lib/python3.10/dist-packages (from openai>=1.1.0->llama-index>=0.9.27->clarifai) (2.6.1)\n",
            "Requirement already satisfied: sniffio in /usr/local/lib/python3.10/dist-packages (from openai>=1.1.0->llama-index>=0.9.27->clarifai) (1.3.0)\n",
            "Requirement already satisfied: certifi in /usr/local/lib/python3.10/dist-packages (from httpx->llama-index>=0.9.27->clarifai) (2024.2.2)\n",
            "Collecting httpcore==1.* (from httpx->llama-index>=0.9.27->clarifai)\n",
            "  Downloading httpcore-1.0.2-py3-none-any.whl (76 kB)\n",
            "\u001b[2K     \u001b[90m━━━━━━━━━━━━━━━━━━━━━━━━━━━━━━━━━━━━━━━━\u001b[0m \u001b[32m76.9/76.9 kB\u001b[0m \u001b[31m13.5 MB/s\u001b[0m eta \u001b[36m0:00:00\u001b[0m\n",
            "\u001b[?25hRequirement already satisfied: idna in /usr/local/lib/python3.10/dist-packages (from httpx->llama-index>=0.9.27->clarifai) (3.6)\n",
            "Collecting h11<0.15,>=0.13 (from httpcore==1.*->httpx->llama-index>=0.9.27->clarifai)\n",
            "  Downloading h11-0.14.0-py3-none-any.whl (58 kB)\n",
            "\u001b[2K     \u001b[90m━━━━━━━━━━━━━━━━━━━━━━━━━━━━━━━━━━━━━━━━\u001b[0m \u001b[32m58.3/58.3 kB\u001b[0m \u001b[31m9.3 MB/s\u001b[0m eta \u001b[36m0:00:00\u001b[0m\n",
            "\u001b[?25hRequirement already satisfied: six>=1.5 in /usr/local/lib/python3.10/dist-packages (from python-dateutil>=2.8.1->pandas>=1.3.5->clarifai) (1.16.0)\n",
            "Requirement already satisfied: charset-normalizer<4,>=2 in /usr/local/lib/python3.10/dist-packages (from requests>=2.25.1->clarifai-grpc~=10.0.1->clarifai) (3.3.2)\n",
            "Requirement already satisfied: greenlet!=0.4.17 in /usr/local/lib/python3.10/dist-packages (from SQLAlchemy[asyncio]>=1.4.49->llama-index>=0.9.27->clarifai) (3.0.3)\n",
            "Collecting mypy-extensions>=0.3.0 (from typing-inspect>=0.8.0->llama-index>=0.9.27->clarifai)\n",
            "  Downloading mypy_extensions-1.0.0-py3-none-any.whl (4.7 kB)\n",
            "Collecting marshmallow<4.0.0,>=3.18.0 (from dataclasses-json->llama-index>=0.9.27->clarifai)\n",
            "  Downloading marshmallow-3.20.2-py3-none-any.whl (49 kB)\n",
            "\u001b[2K     \u001b[90m━━━━━━━━━━━━━━━━━━━━━━━━━━━━━━━━━━━━━━━━\u001b[0m \u001b[32m49.4/49.4 kB\u001b[0m \u001b[31m8.2 MB/s\u001b[0m eta \u001b[36m0:00:00\u001b[0m\n",
            "\u001b[?25hRequirement already satisfied: exceptiongroup in /usr/local/lib/python3.10/dist-packages (from anyio<5,>=3.5.0->openai>=1.1.0->llama-index>=0.9.27->clarifai) (1.2.0)\n",
            "Requirement already satisfied: packaging>=17.0 in /usr/local/lib/python3.10/dist-packages (from marshmallow<4.0.0,>=3.18.0->dataclasses-json->llama-index>=0.9.27->clarifai) (23.2)\n",
            "Requirement already satisfied: annotated-types>=0.4.0 in /usr/local/lib/python3.10/dist-packages (from pydantic<3,>=1.9.0->openai>=1.1.0->llama-index>=0.9.27->clarifai) (0.6.0)\n",
            "Requirement already satisfied: pydantic-core==2.16.2 in /usr/local/lib/python3.10/dist-packages (from pydantic<3,>=1.9.0->openai>=1.1.0->llama-index>=0.9.27->clarifai) (2.16.2)\n",
            "Installing collected packages: dirtyjson, schema, python-rapidjson, pypdf, Pillow, mypy-extensions, marshmallow, h11, deprecated, typing-inspect, tritonclient, tiktoken, httpcore, clarifai-grpc, httpx, dataclasses-json, openai, llama-index, clarifai\n",
            "  Attempting uninstall: Pillow\n",
            "    Found existing installation: Pillow 9.4.0\n",
            "    Uninstalling Pillow-9.4.0:\n",
            "      Successfully uninstalled Pillow-9.4.0\n",
            "\u001b[31mERROR: pip's dependency resolver does not currently take into account all the packages that are installed. This behaviour is the source of the following dependency conflicts.\n",
            "llmx 0.0.15a0 requires cohere, which is not installed.\n",
            "imageio 2.31.6 requires pillow<10.1.0,>=8.3.2, but you have pillow 10.2.0 which is incompatible.\u001b[0m\u001b[31m\n",
            "\u001b[0mSuccessfully installed Pillow-10.2.0 clarifai-10.0.1 clarifai-grpc-10.0.10 dataclasses-json-0.6.4 deprecated-1.2.14 dirtyjson-1.0.8 h11-0.14.0 httpcore-1.0.2 httpx-0.26.0 llama-index-0.9.46 marshmallow-3.20.2 mypy-extensions-1.0.0 openai-1.12.0 pypdf-4.0.1 python-rapidjson-1.14 schema-0.7.5 tiktoken-0.6.0 tritonclient-2.42.0 typing-inspect-0.9.0\n"
          ]
        },
        {
          "output_type": "display_data",
          "data": {
            "application/vnd.colab-display-data+json": {
              "pip_warning": {
                "packages": [
                  "PIL"
                ]
              }
            }
          },
          "metadata": {}
        }
      ],
      "source": [
        "#Install Clarifai\n",
        "!pip install clarifai"
      ]
    },
    {
      "cell_type": "code",
      "execution_count": null,
      "metadata": {
        "id": "hjTft4VG4FHL"
      },
      "outputs": [],
      "source": [
        "# Set Clarifai PAT as an environment variable.\n",
        "\n",
        "%env CLARIFAI_PAT= YOUR_PAT"
      ]
    },
    {
      "cell_type": "code",
      "execution_count": null,
      "metadata": {
        "colab": {
          "base_uri": "https://localhost:8080/",
          "height": 1000
        },
        "id": "fTmBUdLL0J6v",
        "outputId": "d2f46af3-78c8-4be8-f2fb-c33ddeb6f60a"
      },
      "outputs": [
        {
          "output_type": "display_data",
          "data": {
            "text/plain": [
              "\u001b[2;36m2024-02-07 05:26:39\u001b[0m\u001b[2;36m \u001b[0m\u001b[34mINFO    \u001b[0m clarifai.client.user:                                                      \u001b]8;id=975543;file:///usr/local/lib/python3.10/dist-packages/clarifai/client/user.py\u001b\\\u001b[2muser.py\u001b[0m\u001b]8;;\u001b\\\u001b[2m:\u001b[0m\u001b]8;id=384418;file:///usr/local/lib/python3.10/dist-packages/clarifai/client/user.py#122\u001b\\\u001b[2m122\u001b[0m\u001b]8;;\u001b\\\n",
              "\u001b[2;36m                    \u001b[0m         App created                                                                \u001b[2m           \u001b[0m\n",
              "\u001b[2;36m                    \u001b[0m         code: SUCCESS                                                              \u001b[2m           \u001b[0m\n",
              "\u001b[2;36m                    \u001b[0m         description: \u001b[32m\"Ok\"\u001b[0m                                                          \u001b[2m           \u001b[0m\n",
              "\u001b[2;36m                    \u001b[0m         req_id: \u001b[32m\"9afcd6cac66750381ba27d167d0755d8\"\u001b[0m                                 \u001b[2m           \u001b[0m\n",
              "\u001b[2;36m                    \u001b[0m                                                                                    \u001b[2m           \u001b[0m\n"
            ],
            "text/html": [
              "<pre style=\"white-space:pre;overflow-x:auto;line-height:normal;font-family:Menlo,'DejaVu Sans Mono',consolas,'Courier New',monospace\"><span style=\"color: #7fbfbf; text-decoration-color: #7fbfbf\">2024-02-07 05:26:39 </span><span style=\"color: #000080; text-decoration-color: #000080\">INFO    </span> clarifai.client.user:                                                      <a href=\"file:///usr/local/lib/python3.10/dist-packages/clarifai/client/user.py\" target=\"_blank\"><span style=\"color: #7f7f7f; text-decoration-color: #7f7f7f\">user.py</span></a><span style=\"color: #7f7f7f; text-decoration-color: #7f7f7f\">:</span><a href=\"file:///usr/local/lib/python3.10/dist-packages/clarifai/client/user.py#122\" target=\"_blank\"><span style=\"color: #7f7f7f; text-decoration-color: #7f7f7f\">122</span></a>\n",
              "<span style=\"color: #7fbfbf; text-decoration-color: #7fbfbf\">                    </span>         App created                                                                <span style=\"color: #7f7f7f; text-decoration-color: #7f7f7f\">           </span>\n",
              "<span style=\"color: #7fbfbf; text-decoration-color: #7fbfbf\">                    </span>         code: SUCCESS                                                              <span style=\"color: #7f7f7f; text-decoration-color: #7f7f7f\">           </span>\n",
              "<span style=\"color: #7fbfbf; text-decoration-color: #7fbfbf\">                    </span>         description: <span style=\"color: #008000; text-decoration-color: #008000\">\"Ok\"</span>                                                          <span style=\"color: #7f7f7f; text-decoration-color: #7f7f7f\">           </span>\n",
              "<span style=\"color: #7fbfbf; text-decoration-color: #7fbfbf\">                    </span>         req_id: <span style=\"color: #008000; text-decoration-color: #008000\">\"9afcd6cac66750381ba27d167d0755d8\"</span>                                 <span style=\"color: #7f7f7f; text-decoration-color: #7f7f7f\">           </span>\n",
              "<span style=\"color: #7fbfbf; text-decoration-color: #7fbfbf\">                    </span>                                                                                    <span style=\"color: #7f7f7f; text-decoration-color: #7f7f7f\">           </span>\n",
              "</pre>\n"
            ]
          },
          "metadata": {}
        },
        {
          "output_type": "display_data",
          "data": {
            "text/plain": [
              "\u001b[2;36m2024-02-07 05:26:39\u001b[0m\u001b[2;36m \u001b[0m\u001b[34mINFO    \u001b[0m clarifai.client.user:                                                      \u001b]8;id=483038;file:///usr/local/lib/python3.10/dist-packages/clarifai/client/user.py\u001b\\\u001b[2muser.py\u001b[0m\u001b]8;;\u001b\\\u001b[2m:\u001b[0m\u001b]8;id=161461;file:///usr/local/lib/python3.10/dist-packages/clarifai/client/user.py#122\u001b\\\u001b[2m122\u001b[0m\u001b]8;;\u001b\\\n",
              "\u001b[2;36m                    \u001b[0m         App created                                                                \u001b[2m           \u001b[0m\n",
              "\u001b[2;36m                    \u001b[0m         code: SUCCESS                                                              \u001b[2m           \u001b[0m\n",
              "\u001b[2;36m                    \u001b[0m         description: \u001b[32m\"Ok\"\u001b[0m                                                          \u001b[2m           \u001b[0m\n",
              "\u001b[2;36m                    \u001b[0m         req_id: \u001b[32m\"9afcd6cac66750381ba27d167d0755d8\"\u001b[0m                                 \u001b[2m           \u001b[0m\n",
              "\u001b[2;36m                    \u001b[0m                                                                                    \u001b[2m           \u001b[0m\n"
            ],
            "text/html": [
              "<pre style=\"white-space:pre;overflow-x:auto;line-height:normal;font-family:Menlo,'DejaVu Sans Mono',consolas,'Courier New',monospace\"><span style=\"color: #7fbfbf; text-decoration-color: #7fbfbf\">2024-02-07 05:26:39 </span><span style=\"color: #000080; text-decoration-color: #000080\">INFO    </span> clarifai.client.user:                                                      <a href=\"file:///usr/local/lib/python3.10/dist-packages/clarifai/client/user.py\" target=\"_blank\"><span style=\"color: #7f7f7f; text-decoration-color: #7f7f7f\">user.py</span></a><span style=\"color: #7f7f7f; text-decoration-color: #7f7f7f\">:</span><a href=\"file:///usr/local/lib/python3.10/dist-packages/clarifai/client/user.py#122\" target=\"_blank\"><span style=\"color: #7f7f7f; text-decoration-color: #7f7f7f\">122</span></a>\n",
              "<span style=\"color: #7fbfbf; text-decoration-color: #7fbfbf\">                    </span>         App created                                                                <span style=\"color: #7f7f7f; text-decoration-color: #7f7f7f\">           </span>\n",
              "<span style=\"color: #7fbfbf; text-decoration-color: #7fbfbf\">                    </span>         code: SUCCESS                                                              <span style=\"color: #7f7f7f; text-decoration-color: #7f7f7f\">           </span>\n",
              "<span style=\"color: #7fbfbf; text-decoration-color: #7fbfbf\">                    </span>         description: <span style=\"color: #008000; text-decoration-color: #008000\">\"Ok\"</span>                                                          <span style=\"color: #7f7f7f; text-decoration-color: #7f7f7f\">           </span>\n",
              "<span style=\"color: #7fbfbf; text-decoration-color: #7fbfbf\">                    </span>         req_id: <span style=\"color: #008000; text-decoration-color: #008000\">\"9afcd6cac66750381ba27d167d0755d8\"</span>                                 <span style=\"color: #7f7f7f; text-decoration-color: #7f7f7f\">           </span>\n",
              "<span style=\"color: #7fbfbf; text-decoration-color: #7fbfbf\">                    </span>                                                                                    <span style=\"color: #7f7f7f; text-decoration-color: #7f7f7f\">           </span>\n",
              "</pre>\n"
            ]
          },
          "metadata": {}
        },
        {
          "output_type": "stream",
          "name": "stderr",
          "text": [
            "INFO:clarifai.client.user:\n",
            "App created\n",
            "code: SUCCESS\n",
            "description: \"Ok\"\n",
            "req_id: \"9afcd6cac66750381ba27d167d0755d8\"\n",
            "\n"
          ]
        },
        {
          "output_type": "display_data",
          "data": {
            "text/plain": [
              "\u001b[2;36m2024-02-07 05:26:39\u001b[0m\u001b[2;36m \u001b[0m\u001b[34mINFO    \u001b[0m clarifai.client.app:                                                        \u001b]8;id=904554;file:///usr/local/lib/python3.10/dist-packages/clarifai/client/app.py\u001b\\\u001b[2mapp.py\u001b[0m\u001b]8;;\u001b\\\u001b[2m:\u001b[0m\u001b]8;id=548986;file:///usr/local/lib/python3.10/dist-packages/clarifai/client/app.py#340\u001b\\\u001b[2m340\u001b[0m\u001b]8;;\u001b\\\n",
              "\u001b[2;36m                    \u001b[0m         Model created                                                               \u001b[2m          \u001b[0m\n",
              "\u001b[2;36m                    \u001b[0m         code: SUCCESS                                                               \u001b[2m          \u001b[0m\n",
              "\u001b[2;36m                    \u001b[0m         description: \u001b[32m\"Ok\"\u001b[0m                                                           \u001b[2m          \u001b[0m\n",
              "\u001b[2;36m                    \u001b[0m         req_id: \u001b[32m\"4845f77cf18100de99377905aa632795\"\u001b[0m                                  \u001b[2m          \u001b[0m\n",
              "\u001b[2;36m                    \u001b[0m                                                                                     \u001b[2m          \u001b[0m\n"
            ],
            "text/html": [
              "<pre style=\"white-space:pre;overflow-x:auto;line-height:normal;font-family:Menlo,'DejaVu Sans Mono',consolas,'Courier New',monospace\"><span style=\"color: #7fbfbf; text-decoration-color: #7fbfbf\">2024-02-07 05:26:39 </span><span style=\"color: #000080; text-decoration-color: #000080\">INFO    </span> clarifai.client.app:                                                        <a href=\"file:///usr/local/lib/python3.10/dist-packages/clarifai/client/app.py\" target=\"_blank\"><span style=\"color: #7f7f7f; text-decoration-color: #7f7f7f\">app.py</span></a><span style=\"color: #7f7f7f; text-decoration-color: #7f7f7f\">:</span><a href=\"file:///usr/local/lib/python3.10/dist-packages/clarifai/client/app.py#340\" target=\"_blank\"><span style=\"color: #7f7f7f; text-decoration-color: #7f7f7f\">340</span></a>\n",
              "<span style=\"color: #7fbfbf; text-decoration-color: #7fbfbf\">                    </span>         Model created                                                               <span style=\"color: #7f7f7f; text-decoration-color: #7f7f7f\">          </span>\n",
              "<span style=\"color: #7fbfbf; text-decoration-color: #7fbfbf\">                    </span>         code: SUCCESS                                                               <span style=\"color: #7f7f7f; text-decoration-color: #7f7f7f\">          </span>\n",
              "<span style=\"color: #7fbfbf; text-decoration-color: #7fbfbf\">                    </span>         description: <span style=\"color: #008000; text-decoration-color: #008000\">\"Ok\"</span>                                                           <span style=\"color: #7f7f7f; text-decoration-color: #7f7f7f\">          </span>\n",
              "<span style=\"color: #7fbfbf; text-decoration-color: #7fbfbf\">                    </span>         req_id: <span style=\"color: #008000; text-decoration-color: #008000\">\"4845f77cf18100de99377905aa632795\"</span>                                  <span style=\"color: #7f7f7f; text-decoration-color: #7f7f7f\">          </span>\n",
              "<span style=\"color: #7fbfbf; text-decoration-color: #7fbfbf\">                    </span>                                                                                     <span style=\"color: #7f7f7f; text-decoration-color: #7f7f7f\">          </span>\n",
              "</pre>\n"
            ]
          },
          "metadata": {}
        },
        {
          "output_type": "display_data",
          "data": {
            "text/plain": [
              "\u001b[2;36m                   \u001b[0m\u001b[2;36m \u001b[0m\u001b[34mINFO    \u001b[0m clarifai.client.app:                                                        \u001b]8;id=669370;file:///usr/local/lib/python3.10/dist-packages/clarifai/client/app.py\u001b\\\u001b[2mapp.py\u001b[0m\u001b]8;;\u001b\\\u001b[2m:\u001b[0m\u001b]8;id=988655;file:///usr/local/lib/python3.10/dist-packages/clarifai/client/app.py#340\u001b\\\u001b[2m340\u001b[0m\u001b]8;;\u001b\\\n",
              "\u001b[2;36m                    \u001b[0m         Model created                                                               \u001b[2m          \u001b[0m\n",
              "\u001b[2;36m                    \u001b[0m         code: SUCCESS                                                               \u001b[2m          \u001b[0m\n",
              "\u001b[2;36m                    \u001b[0m         description: \u001b[32m\"Ok\"\u001b[0m                                                           \u001b[2m          \u001b[0m\n",
              "\u001b[2;36m                    \u001b[0m         req_id: \u001b[32m\"4845f77cf18100de99377905aa632795\"\u001b[0m                                  \u001b[2m          \u001b[0m\n",
              "\u001b[2;36m                    \u001b[0m                                                                                     \u001b[2m          \u001b[0m\n"
            ],
            "text/html": [
              "<pre style=\"white-space:pre;overflow-x:auto;line-height:normal;font-family:Menlo,'DejaVu Sans Mono',consolas,'Courier New',monospace\"><span style=\"color: #7fbfbf; text-decoration-color: #7fbfbf\">                    </span><span style=\"color: #000080; text-decoration-color: #000080\">INFO    </span> clarifai.client.app:                                                        <a href=\"file:///usr/local/lib/python3.10/dist-packages/clarifai/client/app.py\" target=\"_blank\"><span style=\"color: #7f7f7f; text-decoration-color: #7f7f7f\">app.py</span></a><span style=\"color: #7f7f7f; text-decoration-color: #7f7f7f\">:</span><a href=\"file:///usr/local/lib/python3.10/dist-packages/clarifai/client/app.py#340\" target=\"_blank\"><span style=\"color: #7f7f7f; text-decoration-color: #7f7f7f\">340</span></a>\n",
              "<span style=\"color: #7fbfbf; text-decoration-color: #7fbfbf\">                    </span>         Model created                                                               <span style=\"color: #7f7f7f; text-decoration-color: #7f7f7f\">          </span>\n",
              "<span style=\"color: #7fbfbf; text-decoration-color: #7fbfbf\">                    </span>         code: SUCCESS                                                               <span style=\"color: #7f7f7f; text-decoration-color: #7f7f7f\">          </span>\n",
              "<span style=\"color: #7fbfbf; text-decoration-color: #7fbfbf\">                    </span>         description: <span style=\"color: #008000; text-decoration-color: #008000\">\"Ok\"</span>                                                           <span style=\"color: #7f7f7f; text-decoration-color: #7f7f7f\">          </span>\n",
              "<span style=\"color: #7fbfbf; text-decoration-color: #7fbfbf\">                    </span>         req_id: <span style=\"color: #008000; text-decoration-color: #008000\">\"4845f77cf18100de99377905aa632795\"</span>                                  <span style=\"color: #7f7f7f; text-decoration-color: #7f7f7f\">          </span>\n",
              "<span style=\"color: #7fbfbf; text-decoration-color: #7fbfbf\">                    </span>                                                                                     <span style=\"color: #7f7f7f; text-decoration-color: #7f7f7f\">          </span>\n",
              "</pre>\n"
            ]
          },
          "metadata": {}
        },
        {
          "output_type": "stream",
          "name": "stderr",
          "text": [
            "INFO:clarifai.client.app:\n",
            "Model created\n",
            "code: SUCCESS\n",
            "description: \"Ok\"\n",
            "req_id: \"4845f77cf18100de99377905aa632795\"\n",
            "\n"
          ]
        },
        {
          "output_type": "display_data",
          "data": {
            "text/plain": [
              "\u001b[2;36m2024-02-07 05:26:40\u001b[0m\u001b[2;36m \u001b[0m\u001b[34mINFO    \u001b[0m clarifai:                                                                 \u001b]8;id=666505;file:///usr/local/lib/python3.10/dist-packages/clarifai/client/model.py\u001b\\\u001b[2mmodel.py\u001b[0m\u001b]8;;\u001b\\\u001b[2m:\u001b[0m\u001b]8;id=931468;file:///usr/local/lib/python3.10/dist-packages/clarifai/client/model.py#328\u001b\\\u001b[2m328\u001b[0m\u001b]8;;\u001b\\\n",
              "\u001b[2;36m                    \u001b[0m         Model Version created                                                     \u001b[2m            \u001b[0m\n",
              "\u001b[2;36m                    \u001b[0m         code: SUCCESS                                                             \u001b[2m            \u001b[0m\n",
              "\u001b[2;36m                    \u001b[0m         description: \u001b[32m\"Ok\"\u001b[0m                                                         \u001b[2m            \u001b[0m\n",
              "\u001b[2;36m                    \u001b[0m         req_id: \u001b[32m\"ff40e1428eba20e68a1101e57e1a7f05\"\u001b[0m                                \u001b[2m            \u001b[0m\n",
              "\u001b[2;36m                    \u001b[0m                                                                                   \u001b[2m            \u001b[0m\n"
            ],
            "text/html": [
              "<pre style=\"white-space:pre;overflow-x:auto;line-height:normal;font-family:Menlo,'DejaVu Sans Mono',consolas,'Courier New',monospace\"><span style=\"color: #7fbfbf; text-decoration-color: #7fbfbf\">2024-02-07 05:26:40 </span><span style=\"color: #000080; text-decoration-color: #000080\">INFO    </span> clarifai:                                                                 <a href=\"file:///usr/local/lib/python3.10/dist-packages/clarifai/client/model.py\" target=\"_blank\"><span style=\"color: #7f7f7f; text-decoration-color: #7f7f7f\">model.py</span></a><span style=\"color: #7f7f7f; text-decoration-color: #7f7f7f\">:</span><a href=\"file:///usr/local/lib/python3.10/dist-packages/clarifai/client/model.py#328\" target=\"_blank\"><span style=\"color: #7f7f7f; text-decoration-color: #7f7f7f\">328</span></a>\n",
              "<span style=\"color: #7fbfbf; text-decoration-color: #7fbfbf\">                    </span>         Model Version created                                                     <span style=\"color: #7f7f7f; text-decoration-color: #7f7f7f\">            </span>\n",
              "<span style=\"color: #7fbfbf; text-decoration-color: #7fbfbf\">                    </span>         code: SUCCESS                                                             <span style=\"color: #7f7f7f; text-decoration-color: #7f7f7f\">            </span>\n",
              "<span style=\"color: #7fbfbf; text-decoration-color: #7fbfbf\">                    </span>         description: <span style=\"color: #008000; text-decoration-color: #008000\">\"Ok\"</span>                                                         <span style=\"color: #7f7f7f; text-decoration-color: #7f7f7f\">            </span>\n",
              "<span style=\"color: #7fbfbf; text-decoration-color: #7fbfbf\">                    </span>         req_id: <span style=\"color: #008000; text-decoration-color: #008000\">\"ff40e1428eba20e68a1101e57e1a7f05\"</span>                                <span style=\"color: #7f7f7f; text-decoration-color: #7f7f7f\">            </span>\n",
              "<span style=\"color: #7fbfbf; text-decoration-color: #7fbfbf\">                    </span>                                                                                   <span style=\"color: #7f7f7f; text-decoration-color: #7f7f7f\">            </span>\n",
              "</pre>\n"
            ]
          },
          "metadata": {}
        },
        {
          "output_type": "stream",
          "name": "stderr",
          "text": [
            "INFO:clarifai:\n",
            "Model Version created\n",
            "code: SUCCESS\n",
            "description: \"Ok\"\n",
            "req_id: \"ff40e1428eba20e68a1101e57e1a7f05\"\n",
            "\n"
          ]
        },
        {
          "output_type": "display_data",
          "data": {
            "text/plain": [
              "\u001b[2;36m2024-02-07 05:26:41\u001b[0m\u001b[2;36m \u001b[0m\u001b[34mINFO    \u001b[0m clarifai.client.app:                                                        \u001b]8;id=349848;file:///usr/local/lib/python3.10/dist-packages/clarifai/client/app.py\u001b\\\u001b[2mapp.py\u001b[0m\u001b]8;;\u001b\\\u001b[2m:\u001b[0m\u001b]8;id=411509;file:///usr/local/lib/python3.10/dist-packages/clarifai/client/app.py#431\u001b\\\u001b[2m431\u001b[0m\u001b]8;;\u001b\\\n",
              "\u001b[2;36m                    \u001b[0m         Workflow created                                                            \u001b[2m          \u001b[0m\n",
              "\u001b[2;36m                    \u001b[0m         code: SUCCESS                                                               \u001b[2m          \u001b[0m\n",
              "\u001b[2;36m                    \u001b[0m         description: \u001b[32m\"Ok\"\u001b[0m                                                           \u001b[2m          \u001b[0m\n",
              "\u001b[2;36m                    \u001b[0m         req_id: \u001b[32m\"25ca869e3a8c3bcad8c1ddc598b7c844\"\u001b[0m                                  \u001b[2m          \u001b[0m\n",
              "\u001b[2;36m                    \u001b[0m                                                                                     \u001b[2m          \u001b[0m\n"
            ],
            "text/html": [
              "<pre style=\"white-space:pre;overflow-x:auto;line-height:normal;font-family:Menlo,'DejaVu Sans Mono',consolas,'Courier New',monospace\"><span style=\"color: #7fbfbf; text-decoration-color: #7fbfbf\">2024-02-07 05:26:41 </span><span style=\"color: #000080; text-decoration-color: #000080\">INFO    </span> clarifai.client.app:                                                        <a href=\"file:///usr/local/lib/python3.10/dist-packages/clarifai/client/app.py\" target=\"_blank\"><span style=\"color: #7f7f7f; text-decoration-color: #7f7f7f\">app.py</span></a><span style=\"color: #7f7f7f; text-decoration-color: #7f7f7f\">:</span><a href=\"file:///usr/local/lib/python3.10/dist-packages/clarifai/client/app.py#431\" target=\"_blank\"><span style=\"color: #7f7f7f; text-decoration-color: #7f7f7f\">431</span></a>\n",
              "<span style=\"color: #7fbfbf; text-decoration-color: #7fbfbf\">                    </span>         Workflow created                                                            <span style=\"color: #7f7f7f; text-decoration-color: #7f7f7f\">          </span>\n",
              "<span style=\"color: #7fbfbf; text-decoration-color: #7fbfbf\">                    </span>         code: SUCCESS                                                               <span style=\"color: #7f7f7f; text-decoration-color: #7f7f7f\">          </span>\n",
              "<span style=\"color: #7fbfbf; text-decoration-color: #7fbfbf\">                    </span>         description: <span style=\"color: #008000; text-decoration-color: #008000\">\"Ok\"</span>                                                           <span style=\"color: #7f7f7f; text-decoration-color: #7f7f7f\">          </span>\n",
              "<span style=\"color: #7fbfbf; text-decoration-color: #7fbfbf\">                    </span>         req_id: <span style=\"color: #008000; text-decoration-color: #008000\">\"25ca869e3a8c3bcad8c1ddc598b7c844\"</span>                                  <span style=\"color: #7f7f7f; text-decoration-color: #7f7f7f\">          </span>\n",
              "<span style=\"color: #7fbfbf; text-decoration-color: #7fbfbf\">                    </span>                                                                                     <span style=\"color: #7f7f7f; text-decoration-color: #7f7f7f\">          </span>\n",
              "</pre>\n"
            ]
          },
          "metadata": {}
        },
        {
          "output_type": "display_data",
          "data": {
            "text/plain": [
              "\u001b[2;36m2024-02-07 05:26:41\u001b[0m\u001b[2;36m \u001b[0m\u001b[34mINFO    \u001b[0m clarifai.client.app:                                                        \u001b]8;id=836534;file:///usr/local/lib/python3.10/dist-packages/clarifai/client/app.py\u001b\\\u001b[2mapp.py\u001b[0m\u001b]8;;\u001b\\\u001b[2m:\u001b[0m\u001b]8;id=767818;file:///usr/local/lib/python3.10/dist-packages/clarifai/client/app.py#431\u001b\\\u001b[2m431\u001b[0m\u001b]8;;\u001b\\\n",
              "\u001b[2;36m                    \u001b[0m         Workflow created                                                            \u001b[2m          \u001b[0m\n",
              "\u001b[2;36m                    \u001b[0m         code: SUCCESS                                                               \u001b[2m          \u001b[0m\n",
              "\u001b[2;36m                    \u001b[0m         description: \u001b[32m\"Ok\"\u001b[0m                                                           \u001b[2m          \u001b[0m\n",
              "\u001b[2;36m                    \u001b[0m         req_id: \u001b[32m\"25ca869e3a8c3bcad8c1ddc598b7c844\"\u001b[0m                                  \u001b[2m          \u001b[0m\n",
              "\u001b[2;36m                    \u001b[0m                                                                                     \u001b[2m          \u001b[0m\n"
            ],
            "text/html": [
              "<pre style=\"white-space:pre;overflow-x:auto;line-height:normal;font-family:Menlo,'DejaVu Sans Mono',consolas,'Courier New',monospace\"><span style=\"color: #7fbfbf; text-decoration-color: #7fbfbf\">2024-02-07 05:26:41 </span><span style=\"color: #000080; text-decoration-color: #000080\">INFO    </span> clarifai.client.app:                                                        <a href=\"file:///usr/local/lib/python3.10/dist-packages/clarifai/client/app.py\" target=\"_blank\"><span style=\"color: #7f7f7f; text-decoration-color: #7f7f7f\">app.py</span></a><span style=\"color: #7f7f7f; text-decoration-color: #7f7f7f\">:</span><a href=\"file:///usr/local/lib/python3.10/dist-packages/clarifai/client/app.py#431\" target=\"_blank\"><span style=\"color: #7f7f7f; text-decoration-color: #7f7f7f\">431</span></a>\n",
              "<span style=\"color: #7fbfbf; text-decoration-color: #7fbfbf\">                    </span>         Workflow created                                                            <span style=\"color: #7f7f7f; text-decoration-color: #7f7f7f\">          </span>\n",
              "<span style=\"color: #7fbfbf; text-decoration-color: #7fbfbf\">                    </span>         code: SUCCESS                                                               <span style=\"color: #7f7f7f; text-decoration-color: #7f7f7f\">          </span>\n",
              "<span style=\"color: #7fbfbf; text-decoration-color: #7fbfbf\">                    </span>         description: <span style=\"color: #008000; text-decoration-color: #008000\">\"Ok\"</span>                                                           <span style=\"color: #7f7f7f; text-decoration-color: #7f7f7f\">          </span>\n",
              "<span style=\"color: #7fbfbf; text-decoration-color: #7fbfbf\">                    </span>         req_id: <span style=\"color: #008000; text-decoration-color: #008000\">\"25ca869e3a8c3bcad8c1ddc598b7c844\"</span>                                  <span style=\"color: #7f7f7f; text-decoration-color: #7f7f7f\">          </span>\n",
              "<span style=\"color: #7fbfbf; text-decoration-color: #7fbfbf\">                    </span>                                                                                     <span style=\"color: #7f7f7f; text-decoration-color: #7f7f7f\">          </span>\n",
              "</pre>\n"
            ]
          },
          "metadata": {}
        },
        {
          "output_type": "stream",
          "name": "stderr",
          "text": [
            "INFO:clarifai.client.app:\n",
            "Workflow created\n",
            "code: SUCCESS\n",
            "description: \"Ok\"\n",
            "req_id: \"25ca869e3a8c3bcad8c1ddc598b7c844\"\n",
            "\n"
          ]
        },
        {
          "output_type": "display_data",
          "data": {
            "text/plain": [
              "\u001b[32m Input\u001b[0m\n",
              "\u001b[37m╚══ \u001b[0m\u001b[3;37m                            Node: rag-prompter                            \u001b[0m\n",
              "\u001b[37m    \u001b[0m\u001b[37m┏━━━━━━━━━━━━━━━━━━━━━━━━━┳━━━━━━━━━━━━━━━┳━━━━━━━━━━━━━━━━━━━━┳━━━━━━━━━┓\u001b[0m\n",
              "\u001b[37m    \u001b[0m\u001b[37m┃\u001b[0m\u001b[34m \u001b[0m\u001b[34mid                     \u001b[0m\u001b[34m \u001b[0m\u001b[37m┃\u001b[0m\u001b[34m \u001b[0m\u001b[34mmodel_type_id\u001b[0m\u001b[34m \u001b[0m\u001b[37m┃\u001b[0m\u001b[34m \u001b[0m\u001b[34mapp_id            \u001b[0m\u001b[34m \u001b[0m\u001b[37m┃\u001b[0m\u001b[34m \u001b[0m\u001b[34muser_id\u001b[0m\u001b[34m \u001b[0m\u001b[37m┃\u001b[0m\n",
              "\u001b[37m    \u001b[0m\u001b[37m┡━━━━━━━━━━━━━━━━━━━━━━━━━╇━━━━━━━━━━━━━━━╇━━━━━━━━━━━━━━━━━━━━╇━━━━━━━━━┩\u001b[0m\n",
              "\u001b[37m    \u001b[0m\u001b[37m│\u001b[0m\u001b[37m \u001b[0m\u001b[37mrag_prompter_1707283598\u001b[0m\u001b[37m \u001b[0m\u001b[37m│\u001b[0m\u001b[37m \u001b[0m\u001b[37mrag-prompter \u001b[0m\u001b[37m \u001b[0m\u001b[37m│\u001b[0m\u001b[37m \u001b[0m\u001b[37mrag_app_1707283598\u001b[0m\u001b[37m \u001b[0m\u001b[37m│\u001b[0m\u001b[37m \u001b[0m\u001b[37msumanth\u001b[0m\u001b[37m \u001b[0m\u001b[37m│\u001b[0m\n",
              "\u001b[37m    \u001b[0m\u001b[37m└─────────────────────────┴───────────────┴────────────────────┴─────────┘\u001b[0m\n",
              "\u001b[37m    \u001b[0m\u001b[37m╚══ \u001b[0m\u001b[3;32m                           Node: llm                            \u001b[0m\n",
              "\u001b[37m    \u001b[0m\u001b[37m    \u001b[0m\u001b[32m┏━━━━━━━━━━━━━━━━━━━━━┳━━━━━━━━━━━━━━━┳━━━━━━━━━━━━┳━━━━━━━━━━━┓\u001b[0m\n",
              "\u001b[37m    \u001b[0m\u001b[37m    \u001b[0m\u001b[32m┃\u001b[0m\u001b[34m \u001b[0m\u001b[34mid                 \u001b[0m\u001b[34m \u001b[0m\u001b[32m┃\u001b[0m\u001b[34m \u001b[0m\u001b[34mmodel_type_id\u001b[0m\u001b[34m \u001b[0m\u001b[32m┃\u001b[0m\u001b[34m \u001b[0m\u001b[34mapp_id    \u001b[0m\u001b[34m \u001b[0m\u001b[32m┃\u001b[0m\u001b[34m \u001b[0m\u001b[34muser_id  \u001b[0m\u001b[34m \u001b[0m\u001b[32m┃\u001b[0m\n",
              "\u001b[37m    \u001b[0m\u001b[37m    \u001b[0m\u001b[32m┡━━━━━━━━━━━━━━━━━━━━━╇━━━━━━━━━━━━━━━╇━━━━━━━━━━━━╇━━━━━━━━━━━┩\u001b[0m\n",
              "\u001b[37m    \u001b[0m\u001b[37m    \u001b[0m\u001b[32m│\u001b[0m\u001b[32m \u001b[0m\u001b[32mmistral-7B-Instruct\u001b[0m\u001b[32m \u001b[0m\u001b[32m│\u001b[0m\u001b[32m \u001b[0m\u001b[32mtext-to-text \u001b[0m\u001b[32m \u001b[0m\u001b[32m│\u001b[0m\u001b[32m \u001b[0m\u001b[32mcompletion\u001b[0m\u001b[32m \u001b[0m\u001b[32m│\u001b[0m\u001b[32m \u001b[0m\u001b[32mmistralai\u001b[0m\u001b[32m \u001b[0m\u001b[32m│\u001b[0m\n",
              "\u001b[37m    \u001b[0m\u001b[37m    \u001b[0m\u001b[32m└─────────────────────┴───────────────┴────────────┴───────────┘\u001b[0m\n"
            ],
            "text/html": [
              "<pre style=\"white-space:pre;overflow-x:auto;line-height:normal;font-family:Menlo,'DejaVu Sans Mono',consolas,'Courier New',monospace\"><span style=\"color: #008000; text-decoration-color: #008000\"> Input</span>\n",
              "<span style=\"color: #c0c0c0; text-decoration-color: #c0c0c0\">╚══ </span><span style=\"color: #c0c0c0; text-decoration-color: #c0c0c0; font-style: italic\">                            Node: rag-prompter                            </span>\n",
              "<span style=\"color: #c0c0c0; text-decoration-color: #c0c0c0\">    </span><span style=\"color: #c0c0c0; text-decoration-color: #c0c0c0\">┏━━━━━━━━━━━━━━━━━━━━━━━━━┳━━━━━━━━━━━━━━━┳━━━━━━━━━━━━━━━━━━━━┳━━━━━━━━━┓</span>\n",
              "<span style=\"color: #c0c0c0; text-decoration-color: #c0c0c0\">    </span><span style=\"color: #c0c0c0; text-decoration-color: #c0c0c0\">┃</span><span style=\"color: #000080; text-decoration-color: #000080\"> id                      </span><span style=\"color: #c0c0c0; text-decoration-color: #c0c0c0\">┃</span><span style=\"color: #000080; text-decoration-color: #000080\"> model_type_id </span><span style=\"color: #c0c0c0; text-decoration-color: #c0c0c0\">┃</span><span style=\"color: #000080; text-decoration-color: #000080\"> app_id             </span><span style=\"color: #c0c0c0; text-decoration-color: #c0c0c0\">┃</span><span style=\"color: #000080; text-decoration-color: #000080\"> user_id </span><span style=\"color: #c0c0c0; text-decoration-color: #c0c0c0\">┃</span>\n",
              "<span style=\"color: #c0c0c0; text-decoration-color: #c0c0c0\">    </span><span style=\"color: #c0c0c0; text-decoration-color: #c0c0c0\">┡━━━━━━━━━━━━━━━━━━━━━━━━━╇━━━━━━━━━━━━━━━╇━━━━━━━━━━━━━━━━━━━━╇━━━━━━━━━┩</span>\n",
              "<span style=\"color: #c0c0c0; text-decoration-color: #c0c0c0\">    </span><span style=\"color: #c0c0c0; text-decoration-color: #c0c0c0\">│ rag_prompter_1707283598 │ rag-prompter  │ rag_app_1707283598 │ sumanth │</span>\n",
              "<span style=\"color: #c0c0c0; text-decoration-color: #c0c0c0\">    </span><span style=\"color: #c0c0c0; text-decoration-color: #c0c0c0\">└─────────────────────────┴───────────────┴────────────────────┴─────────┘</span>\n",
              "<span style=\"color: #c0c0c0; text-decoration-color: #c0c0c0\">    ╚══ </span><span style=\"color: #008000; text-decoration-color: #008000; font-style: italic\">                           Node: llm                            </span>\n",
              "<span style=\"color: #c0c0c0; text-decoration-color: #c0c0c0\">        </span><span style=\"color: #008000; text-decoration-color: #008000\">┏━━━━━━━━━━━━━━━━━━━━━┳━━━━━━━━━━━━━━━┳━━━━━━━━━━━━┳━━━━━━━━━━━┓</span>\n",
              "<span style=\"color: #c0c0c0; text-decoration-color: #c0c0c0\">        </span><span style=\"color: #008000; text-decoration-color: #008000\">┃</span><span style=\"color: #000080; text-decoration-color: #000080\"> id                  </span><span style=\"color: #008000; text-decoration-color: #008000\">┃</span><span style=\"color: #000080; text-decoration-color: #000080\"> model_type_id </span><span style=\"color: #008000; text-decoration-color: #008000\">┃</span><span style=\"color: #000080; text-decoration-color: #000080\"> app_id     </span><span style=\"color: #008000; text-decoration-color: #008000\">┃</span><span style=\"color: #000080; text-decoration-color: #000080\"> user_id   </span><span style=\"color: #008000; text-decoration-color: #008000\">┃</span>\n",
              "<span style=\"color: #c0c0c0; text-decoration-color: #c0c0c0\">        </span><span style=\"color: #008000; text-decoration-color: #008000\">┡━━━━━━━━━━━━━━━━━━━━━╇━━━━━━━━━━━━━━━╇━━━━━━━━━━━━╇━━━━━━━━━━━┩</span>\n",
              "<span style=\"color: #c0c0c0; text-decoration-color: #c0c0c0\">        </span><span style=\"color: #008000; text-decoration-color: #008000\">│ mistral-7B-Instruct │ text-to-text  │ completion │ mistralai │</span>\n",
              "<span style=\"color: #c0c0c0; text-decoration-color: #c0c0c0\">        </span><span style=\"color: #008000; text-decoration-color: #008000\">└─────────────────────┴───────────────┴────────────┴───────────┘</span>\n",
              "</pre>\n"
            ]
          },
          "metadata": {}
        },
        {
          "output_type": "display_data",
          "data": {
            "text/plain": [
              "\u001b[2;36m2024-02-07 05:26:45\u001b[0m\u001b[2;36m \u001b[0m\u001b[34mINFO    \u001b[0m clarifai.client.input:                                                    \u001b]8;id=950655;file:///usr/local/lib/python3.10/dist-packages/clarifai/client/input.py\u001b\\\u001b[2minput.py\u001b[0m\u001b]8;;\u001b\\\u001b[2m:\u001b[0m\u001b]8;id=907263;file:///usr/local/lib/python3.10/dist-packages/clarifai/client/input.py#669\u001b\\\u001b[2m669\u001b[0m\u001b]8;;\u001b\\\n",
              "\u001b[2;36m                    \u001b[0m         Inputs Uploaded                                                           \u001b[2m            \u001b[0m\n",
              "\u001b[2;36m                    \u001b[0m         code: SUCCESS                                                             \u001b[2m            \u001b[0m\n",
              "\u001b[2;36m                    \u001b[0m         description: \u001b[32m\"Ok\"\u001b[0m                                                         \u001b[2m            \u001b[0m\n",
              "\u001b[2;36m                    \u001b[0m         details: \u001b[32m\"All inputs successfully added\"\u001b[0m                                  \u001b[2m            \u001b[0m\n",
              "\u001b[2;36m                    \u001b[0m         req_id: \u001b[32m\"7d0eed5c5493029ba48151a915c7ab31\"\u001b[0m                                \u001b[2m            \u001b[0m\n",
              "\u001b[2;36m                    \u001b[0m                                                                                   \u001b[2m            \u001b[0m\n"
            ],
            "text/html": [
              "<pre style=\"white-space:pre;overflow-x:auto;line-height:normal;font-family:Menlo,'DejaVu Sans Mono',consolas,'Courier New',monospace\"><span style=\"color: #7fbfbf; text-decoration-color: #7fbfbf\">2024-02-07 05:26:45 </span><span style=\"color: #000080; text-decoration-color: #000080\">INFO    </span> clarifai.client.input:                                                    <a href=\"file:///usr/local/lib/python3.10/dist-packages/clarifai/client/input.py\" target=\"_blank\"><span style=\"color: #7f7f7f; text-decoration-color: #7f7f7f\">input.py</span></a><span style=\"color: #7f7f7f; text-decoration-color: #7f7f7f\">:</span><a href=\"file:///usr/local/lib/python3.10/dist-packages/clarifai/client/input.py#669\" target=\"_blank\"><span style=\"color: #7f7f7f; text-decoration-color: #7f7f7f\">669</span></a>\n",
              "<span style=\"color: #7fbfbf; text-decoration-color: #7fbfbf\">                    </span>         Inputs Uploaded                                                           <span style=\"color: #7f7f7f; text-decoration-color: #7f7f7f\">            </span>\n",
              "<span style=\"color: #7fbfbf; text-decoration-color: #7fbfbf\">                    </span>         code: SUCCESS                                                             <span style=\"color: #7f7f7f; text-decoration-color: #7f7f7f\">            </span>\n",
              "<span style=\"color: #7fbfbf; text-decoration-color: #7fbfbf\">                    </span>         description: <span style=\"color: #008000; text-decoration-color: #008000\">\"Ok\"</span>                                                         <span style=\"color: #7f7f7f; text-decoration-color: #7f7f7f\">            </span>\n",
              "<span style=\"color: #7fbfbf; text-decoration-color: #7fbfbf\">                    </span>         details: <span style=\"color: #008000; text-decoration-color: #008000\">\"All inputs successfully added\"</span>                                  <span style=\"color: #7f7f7f; text-decoration-color: #7f7f7f\">            </span>\n",
              "<span style=\"color: #7fbfbf; text-decoration-color: #7fbfbf\">                    </span>         req_id: <span style=\"color: #008000; text-decoration-color: #008000\">\"7d0eed5c5493029ba48151a915c7ab31\"</span>                                <span style=\"color: #7f7f7f; text-decoration-color: #7f7f7f\">            </span>\n",
              "<span style=\"color: #7fbfbf; text-decoration-color: #7fbfbf\">                    </span>                                                                                   <span style=\"color: #7f7f7f; text-decoration-color: #7f7f7f\">            </span>\n",
              "</pre>\n"
            ]
          },
          "metadata": {}
        },
        {
          "output_type": "display_data",
          "data": {
            "text/plain": [
              "\u001b[2;36m2024-02-07 05:26:45\u001b[0m\u001b[2;36m \u001b[0m\u001b[34mINFO    \u001b[0m clarifai.client.input:                                                    \u001b]8;id=367024;file:///usr/local/lib/python3.10/dist-packages/clarifai/client/input.py\u001b\\\u001b[2minput.py\u001b[0m\u001b]8;;\u001b\\\u001b[2m:\u001b[0m\u001b]8;id=158966;file:///usr/local/lib/python3.10/dist-packages/clarifai/client/input.py#669\u001b\\\u001b[2m669\u001b[0m\u001b]8;;\u001b\\\n",
              "\u001b[2;36m                    \u001b[0m         Inputs Uploaded                                                           \u001b[2m            \u001b[0m\n",
              "\u001b[2;36m                    \u001b[0m         code: SUCCESS                                                             \u001b[2m            \u001b[0m\n",
              "\u001b[2;36m                    \u001b[0m         description: \u001b[32m\"Ok\"\u001b[0m                                                         \u001b[2m            \u001b[0m\n",
              "\u001b[2;36m                    \u001b[0m         details: \u001b[32m\"All inputs successfully added\"\u001b[0m                                  \u001b[2m            \u001b[0m\n",
              "\u001b[2;36m                    \u001b[0m         req_id: \u001b[32m\"7d0eed5c5493029ba48151a915c7ab31\"\u001b[0m                                \u001b[2m            \u001b[0m\n",
              "\u001b[2;36m                    \u001b[0m                                                                                   \u001b[2m            \u001b[0m\n"
            ],
            "text/html": [
              "<pre style=\"white-space:pre;overflow-x:auto;line-height:normal;font-family:Menlo,'DejaVu Sans Mono',consolas,'Courier New',monospace\"><span style=\"color: #7fbfbf; text-decoration-color: #7fbfbf\">2024-02-07 05:26:45 </span><span style=\"color: #000080; text-decoration-color: #000080\">INFO    </span> clarifai.client.input:                                                    <a href=\"file:///usr/local/lib/python3.10/dist-packages/clarifai/client/input.py\" target=\"_blank\"><span style=\"color: #7f7f7f; text-decoration-color: #7f7f7f\">input.py</span></a><span style=\"color: #7f7f7f; text-decoration-color: #7f7f7f\">:</span><a href=\"file:///usr/local/lib/python3.10/dist-packages/clarifai/client/input.py#669\" target=\"_blank\"><span style=\"color: #7f7f7f; text-decoration-color: #7f7f7f\">669</span></a>\n",
              "<span style=\"color: #7fbfbf; text-decoration-color: #7fbfbf\">                    </span>         Inputs Uploaded                                                           <span style=\"color: #7f7f7f; text-decoration-color: #7f7f7f\">            </span>\n",
              "<span style=\"color: #7fbfbf; text-decoration-color: #7fbfbf\">                    </span>         code: SUCCESS                                                             <span style=\"color: #7f7f7f; text-decoration-color: #7f7f7f\">            </span>\n",
              "<span style=\"color: #7fbfbf; text-decoration-color: #7fbfbf\">                    </span>         description: <span style=\"color: #008000; text-decoration-color: #008000\">\"Ok\"</span>                                                         <span style=\"color: #7f7f7f; text-decoration-color: #7f7f7f\">            </span>\n",
              "<span style=\"color: #7fbfbf; text-decoration-color: #7fbfbf\">                    </span>         details: <span style=\"color: #008000; text-decoration-color: #008000\">\"All inputs successfully added\"</span>                                  <span style=\"color: #7f7f7f; text-decoration-color: #7f7f7f\">            </span>\n",
              "<span style=\"color: #7fbfbf; text-decoration-color: #7fbfbf\">                    </span>         req_id: <span style=\"color: #008000; text-decoration-color: #008000\">\"7d0eed5c5493029ba48151a915c7ab31\"</span>                                <span style=\"color: #7f7f7f; text-decoration-color: #7f7f7f\">            </span>\n",
              "<span style=\"color: #7fbfbf; text-decoration-color: #7fbfbf\">                    </span>                                                                                   <span style=\"color: #7f7f7f; text-decoration-color: #7f7f7f\">            </span>\n",
              "</pre>\n"
            ]
          },
          "metadata": {}
        },
        {
          "output_type": "stream",
          "name": "stderr",
          "text": [
            "INFO:clarifai.client.input:\n",
            "Inputs Uploaded\n",
            "code: SUCCESS\n",
            "description: \"Ok\"\n",
            "details: \"All inputs successfully added\"\n",
            "req_id: \"7d0eed5c5493029ba48151a915c7ab31\"\n",
            "\n"
          ]
        },
        {
          "output_type": "execute_result",
          "data": {
            "text/plain": [
              "[{'role': 'assistant',\n",
              "  'content': '\\n\\nThe PDF discusses the use of multimodal large language models (MMLMs) in natural language processing (NLP) tasks. MMLMs are capable of processing multiple modalities of data, such as text, images, and audio, and have shown promising results in various NLP tasks. The research presented in the PDF explores the effectiveness of MMLMs in tasks such as image captioning, question answering, and sentiment analysis. The authors also discuss the challenges and limitations of MMLMs and propose potential solutions to address these issues. Overall, the PDF provides a comprehensive overview of the state-of-the-art in MMLMs and their applications in NLP.'}]"
            ]
          },
          "metadata": {},
          "execution_count": 3
        }
      ],
      "source": [
        "from clarifai.rag import RAG\n",
        "\n",
        "# Set up your RAG system by passing the Clarifai user ID.\n",
        "rag_agent = RAG.setup(user_id=\"user_id\")\n",
        "\n",
        "# Upload your docs to embed and store in the Clarifai vector database.\n",
        "rag_agent.upload(file_path=\"/content/multimodal_llms.pdf\")\n",
        "\n",
        "# Now chat with your data.\n",
        "rag_agent.chat(messages=[{\"role\": \"human\", \"content\": \"Summarize this pdf and research on multimodal large language models\"}])"
      ]
    }
  ],
  "metadata": {
    "colab": {
      "provenance": [],
      "include_colab_link": true
    },
    "kernelspec": {
      "display_name": "Python 3",
      "name": "python3"
    },
    "language_info": {
      "name": "python"
    }
  },
  "nbformat": 4,
  "nbformat_minor": 0
}